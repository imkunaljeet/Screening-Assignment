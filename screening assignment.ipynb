{
 "cells": [
  {
   "cell_type": "markdown",
   "metadata": {},
   "source": [
    "**1. Python Screening Assignment**\n",
    "\n",
    "|Task|Result|\n",
    "|:---|---:|\n",
    "|Create a function in python to read the text file and replace specific content of the file.|File name example.txt|\n",
    "|Original file content| This is a placement assignment|\n",
    "|Replace string| Placement should be replaced by\n",
    "screening.|\n",
    "|Replaced file content| This is a screening assignment|"
   ]
  },
  {
   "cell_type": "code",
   "execution_count": 1,
   "metadata": {},
   "outputs": [],
   "source": [
    "a = 'placement'\n",
    "b = 'screening'\n",
    "file = open(\"example.txt\",\"r\")\n",
    "reading = file.read()\n",
    "reading = reading.replace(a,b)\n",
    "file.close()\n",
    "file = open(\"example.txt\",\"w\")\n",
    "file.write(reading)\n",
    "file.close()"
   ]
  },
  {
   "cell_type": "markdown",
   "metadata": {},
   "source": [
    "**2. Demonstrate use of abstract class, multiple inheritance and decorator in\n",
    "python using examples.**"
   ]
  },
  {
   "cell_type": "markdown",
   "metadata": {},
   "source": [
    "## Abstract Class"
   ]
  },
  {
   "cell_type": "markdown",
   "metadata": {},
   "source": [
    "**An abstract class is considered as a blueprint for other classes. It contains one or more abstract methods and these methods only have declaration but no implementation. Generally when we build bigger projects or large functional units we use abstract class.**"
   ]
  },
  {
   "cell_type": "code",
   "execution_count": 71,
   "metadata": {},
   "outputs": [],
   "source": [
    "#example\n",
    "class data_project:\n",
    "    \n",
    "    def initialise():\n",
    "        pass\n",
    "    \n",
    "    def database():\n",
    "        pass\n",
    "    \n",
    "    def eda():\n",
    "        pass\n",
    "    \n",
    "    def nlp():\n",
    "        pass\n",
    "    \n",
    "    def cv():\n",
    "        pass\n",
    "    \n",
    "    def machine_lear():\n",
    "        pass"
   ]
  },
  {
   "cell_type": "markdown",
   "metadata": {},
   "source": [
    "Suppose if a company wants to start a new data project, it will have many divisions for a project. The project lead will create an abstract class representing all the possible divisions and different persons or groups will pick up a method and work on it. The above methods are just a small possible divisions of a project, it could include many more methods. The abstract class here provided a blueprint for the data project."
   ]
  },
  {
   "cell_type": "markdown",
   "metadata": {},
   "source": [
    "## Mutiple Inheritance"
   ]
  },
  {
   "cell_type": "markdown",
   "metadata": {},
   "source": [
    "Multiple Inheritance means that we have two or more parent or base classes and from that we are trying to extract their properties in a child class."
   ]
  },
  {
   "cell_type": "code",
   "execution_count": 61,
   "metadata": {},
   "outputs": [],
   "source": [
    "\n",
    "class dict_parse:\n",
    "    def __init__(self,a):\n",
    "        self.a = a\n",
    "        \n",
    "    def get_keys(self):\n",
    "        if type(self.a)==dict:\n",
    "            return list(self.a.keys())\n",
    "        \n",
    "    def get_values(self):\n",
    "        if type(self.a)==dict:\n",
    "            return list(self.a.values())\n",
    "\n",
    "class list_parse:\n",
    "    def __init__(self,a):\n",
    "        self.a = a\n",
    "        \n",
    "    def reverse(self):\n",
    "        if type(self.a)==list:\n",
    "            return self.a[::-1]\n",
    "    \n",
    "    def pop(self):\n",
    "        if type(self.a)==list:\n",
    "            self.a.pop()\n",
    "            return self.a\n",
    "    \n",
    "class child(dict_parse,list_parse):\n",
    "    def display(self):\n",
    "        if type(self.a)==dict:\n",
    "            print(self.a,'is a dictionary')\n",
    "        elif type(self.a)==list:\n",
    "            print(self.a,'is a list')\n",
    "        else:\n",
    "            print('neither a dict nor a list')"
   ]
  },
  {
   "cell_type": "code",
   "execution_count": 62,
   "metadata": {},
   "outputs": [
    {
     "data": {
      "text/plain": [
       "(['a1', 'b1'], ['kunal', 'sanyam'])"
      ]
     },
     "execution_count": 62,
     "metadata": {},
     "output_type": "execute_result"
    }
   ],
   "source": [
    "first = child({'a1':'kunal','b1':'sanyam'})\n",
    "first.get_keys(),first.get_values()"
   ]
  },
  {
   "cell_type": "code",
   "execution_count": 63,
   "metadata": {},
   "outputs": [
    {
     "data": {
      "text/plain": [
       "([4, 3, 5, 2, 9, 1], [1, 9, 2, 5, 3])"
      ]
     },
     "execution_count": 63,
     "metadata": {},
     "output_type": "execute_result"
    }
   ],
   "source": [
    "second = child([1,9,2,5,3,4])\n",
    "second.reverse(),second.pop()"
   ]
  },
  {
   "cell_type": "code",
   "execution_count": 68,
   "metadata": {},
   "outputs": [
    {
     "name": "stdout",
     "output_type": "stream",
     "text": [
      "neither a dict nor a list\n"
     ]
    }
   ],
   "source": [
    "third = child(56)\n",
    "third.display()"
   ]
  },
  {
   "cell_type": "markdown",
   "metadata": {},
   "source": [
    "**Here the child class inherits the property of both dict_parse class and list_parse class and also retains the property of itself which is displayed above. The first object represents dict_parse methods, second object represents list_parse methods, third object represents the child class method respectively and all are called from the child class.**"
   ]
  },
  {
   "cell_type": "markdown",
   "metadata": {},
   "source": [
    "## Decorator"
   ]
  },
  {
   "cell_type": "markdown",
   "metadata": {},
   "source": [
    "Decorator are specially designed functions available inside python which will help other functions or instances behave as per its definition. @ is used in the beginning of a decorator. We now understand the use of one of the decorators known as @staticmethod."
   ]
  },
  {
   "cell_type": "code",
   "execution_count": 14,
   "metadata": {},
   "outputs": [],
   "source": [
    "#Decorator Example\n",
    "class Library:\n",
    "    def __init__(self,a,b,c):\n",
    "        self.a = a\n",
    "        self.b = b\n",
    "        self.c = c\n",
    "        \n",
    "    @staticmethod\n",
    "    def books_section():\n",
    "        print(\"This is static method\")\n",
    "\n",
    "    def books_section1():\n",
    "        print(\"This is static method\")"
   ]
  },
  {
   "cell_type": "code",
   "execution_count": 16,
   "metadata": {},
   "outputs": [
    {
     "ename": "TypeError",
     "evalue": "books_section1() takes 0 positional arguments but 1 was given",
     "output_type": "error",
     "traceback": [
      "\u001b[1;31m---------------------------------------------------------------------------\u001b[0m",
      "\u001b[1;31mTypeError\u001b[0m                                 Traceback (most recent call last)",
      "\u001b[1;32m<ipython-input-16-9ca75e6cd6ee>\u001b[0m in \u001b[0;36m<module>\u001b[1;34m\u001b[0m\n\u001b[0;32m      1\u001b[0m \u001b[0mz\u001b[0m \u001b[1;33m=\u001b[0m \u001b[0mLibrary\u001b[0m\u001b[1;33m(\u001b[0m\u001b[1;36m4\u001b[0m\u001b[1;33m,\u001b[0m\u001b[1;36m5\u001b[0m\u001b[1;33m,\u001b[0m\u001b[1;36m6\u001b[0m\u001b[1;33m)\u001b[0m\u001b[1;33m\u001b[0m\u001b[1;33m\u001b[0m\u001b[0m\n\u001b[1;32m----> 2\u001b[1;33m \u001b[0mz\u001b[0m\u001b[1;33m.\u001b[0m\u001b[0mbooks_section1\u001b[0m\u001b[1;33m(\u001b[0m\u001b[1;33m)\u001b[0m\u001b[1;33m\u001b[0m\u001b[1;33m\u001b[0m\u001b[0m\n\u001b[0m",
      "\u001b[1;31mTypeError\u001b[0m: books_section1() takes 0 positional arguments but 1 was given"
     ]
    }
   ],
   "source": [
    "z = Library(4,5,6)\n",
    "z.books_section1()"
   ]
  },
  {
   "cell_type": "markdown",
   "metadata": {},
   "source": [
    "This gives an error as batch is an instance function, so we have to pass self as its keyword but if we pass **@staticmethod** decorator before batch function, it will be considered as a class function and won't give an error as seen below."
   ]
  },
  {
   "cell_type": "code",
   "execution_count": 18,
   "metadata": {},
   "outputs": [
    {
     "name": "stdout",
     "output_type": "stream",
     "text": [
      "This is static method\n"
     ]
    }
   ],
   "source": [
    "y = Library(1,2,3)\n",
    "y.books_section()"
   ]
  },
  {
   "cell_type": "markdown",
   "metadata": {},
   "source": [
    "**We have many decorators with different properties according to which a function or class will act.**"
   ]
  }
 ],
 "metadata": {
  "kernelspec": {
   "display_name": "Python 3",
   "language": "python",
   "name": "python3"
  },
  "language_info": {
   "codemirror_mode": {
    "name": "ipython",
    "version": 3
   },
   "file_extension": ".py",
   "mimetype": "text/x-python",
   "name": "python",
   "nbconvert_exporter": "python",
   "pygments_lexer": "ipython3",
   "version": "3.7.6"
  }
 },
 "nbformat": 4,
 "nbformat_minor": 4
}
